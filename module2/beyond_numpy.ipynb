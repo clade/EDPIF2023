{
 "cells": [
  {
   "cell_type": "markdown",
   "metadata": {},
   "source": [
    "## Beyond numpy\n",
    "Some calculation cannot be efficienclty performed with numpy\n",
    "* numpy need a lot of memory\n",
    "* Operation not implemented\n",
    "\n",
    "Example : \n",
    "* Calculation of $\\pi$ (With a very very very slow formula!!!)\n",
    "$$ \\frac\\pi4 = \\sum_i \\frac{(-1)^i}{2i+1} = 1 - \\frac13 + \\frac 15 - \\frac17 + \\ldots $$\n",
    "\n",
    "* Operation similar to cumsum\n",
    "$$ y_n = f(y_{n-1}, x_n) $$"
   ]
  },
  {
   "cell_type": "code",
   "execution_count": 5,
   "metadata": {},
   "outputs": [
    {
     "name": "stdout",
     "output_type": "stream",
     "text": [
      "207 ms ± 15.3 ms per loop (mean ± std. dev. of 7 runs, 1 loop each)\n"
     ]
    }
   ],
   "source": [
    "# Implementation in pure python\n",
    "# numpy\n",
    "\n",
    "import numpy as np\n",
    "\n",
    "N = 10000000\n",
    "\n",
    "def calc_pi_numpy(N):\n",
    "    i = np.arange(N)\n",
    "    return np.sum((1 - 2*(i%2))/(2*i + 1))\n",
    "\n",
    "%timeit calc_pi_numpy(N)\n"
   ]
  },
  {
   "cell_type": "code",
   "execution_count": 7,
   "metadata": {},
   "outputs": [
    {
     "data": {
      "text/plain": [
       "3.1415925535897977"
      ]
     },
     "execution_count": 7,
     "metadata": {},
     "output_type": "execute_result"
    }
   ],
   "source": [
    "calc_pi_numpy(N)*4"
   ]
  },
  {
   "cell_type": "markdown",
   "metadata": {},
   "source": [
    "## ctypes\n",
    "* Interface between python and shared library (dll, so)\n",
    "* Accelerate your code (this method is not recommended)\n",
    "* Use existing code !!!\n",
    "* Use closed source library\n",
    "\n",
    "No magic : you have to know C and deal with pointer, memory allocation, ..."
   ]
  },
  {
   "cell_type": "code",
   "execution_count": 8,
   "metadata": {},
   "outputs": [
    {
     "name": "stdout",
     "output_type": "stream",
     "text": [
      "Writing pi.c\n"
     ]
    }
   ],
   "source": [
    "%%writefile pi.c\n",
    "\n",
    "#include <stdio.h>\n",
    "#include <stdlib.h>\n",
    "\n",
    "int calc_pi(int N, double * out){\n",
    "    int i;\n",
    "    double sgn = 1;\n",
    "    *out = 0;\n",
    "    for(i=0; i<N; i++){\n",
    "        *out += sgn/(2*i+1);\n",
    "        sgn = -sgn;\n",
    "        }\n",
    "    }\n",
    "\n",
    "// gcc -shared -o libpi.so -fPIC pi.c  -Wno-pointer-to-int-cast"
   ]
  },
  {
   "cell_type": "code",
   "execution_count": 9,
   "metadata": {},
   "outputs": [],
   "source": [
    "!gcc -shared -o libpi.so -fPIC pi.c  -Wno-pointer-to-int-cast"
   ]
  },
  {
   "cell_type": "code",
   "execution_count": 10,
   "metadata": {},
   "outputs": [
    {
     "data": {
      "text/plain": [
       "3.1415916535897743"
      ]
     },
     "execution_count": 10,
     "metadata": {},
     "output_type": "execute_result"
    }
   ],
   "source": [
    "import ctypes\n",
    "lib = ctypes.cdll.LoadLibrary('./libpi.so')\n",
    "\n",
    "# Raw function\n",
    "_calc_pi = lib.calc_pi\n",
    "\n",
    "# Wrapper to be python friendly\n",
    "def calc_pi_ctypes(N):\n",
    "    out = ctypes.c_double(0)\n",
    "    _calc_pi(N, ctypes.byref(out))\n",
    "    return out.value*4\n",
    "\n",
    "calc_pi_ctypes(10**6)"
   ]
  },
  {
   "cell_type": "code",
   "execution_count": 11,
   "metadata": {},
   "outputs": [
    {
     "name": "stdout",
     "output_type": "stream",
     "text": [
      "23.9 ms ± 109 µs per loop (mean ± std. dev. of 7 runs, 10 loops each)\n"
     ]
    }
   ],
   "source": [
    "%timeit calc_pi_ctypes(N)"
   ]
  },
  {
   "cell_type": "code",
   "execution_count": null,
   "metadata": {},
   "outputs": [],
   "source": []
  },
  {
   "cell_type": "markdown",
   "metadata": {},
   "source": [
    "## Numba \n",
    "Compile your python code for free\n",
    "\n",
    "numba.vectorize"
   ]
  },
  {
   "cell_type": "code",
   "execution_count": 13,
   "metadata": {},
   "outputs": [
    {
     "name": "stdout",
     "output_type": "stream",
     "text": [
      "76.9 ms ± 2.29 ms per loop (mean ± std. dev. of 7 runs, 10 loops each)\n"
     ]
    }
   ],
   "source": [
    "def calc_pi(N):\n",
    "    res = 0\n",
    "    sgn = 1\n",
    "    for i in range(N):\n",
    "        res = res + sgn/(2*i + 1)\n",
    "        sgn = -sgn\n",
    "    return 4*res\n",
    "\n",
    "N = 10000000\n",
    "\n",
    "\n",
    "%timeit calc_pi(N)"
   ]
  },
  {
   "cell_type": "code",
   "execution_count": null,
   "metadata": {},
   "outputs": [],
   "source": []
  },
  {
   "cell_type": "code",
   "execution_count": null,
   "metadata": {},
   "outputs": [],
   "source": []
  },
  {
   "cell_type": "code",
   "execution_count": 14,
   "metadata": {},
   "outputs": [],
   "source": [
    "import numba\n",
    "\n",
    "calc_pi_numba = numba.jit(numba.float64(numba.int32), nogil=True)(calc_pi)\n"
   ]
  },
  {
   "cell_type": "code",
   "execution_count": 17,
   "metadata": {},
   "outputs": [
    {
     "name": "stdout",
     "output_type": "stream",
     "text": [
      "10.6 ms ± 13.7 µs per loop (mean ± std. dev. of 7 runs, 100 loops each)\n"
     ]
    }
   ],
   "source": [
    "N = 10000000\n",
    "\n",
    "%timeit calc_pi_numba(N)"
   ]
  },
  {
   "cell_type": "code",
   "execution_count": 21,
   "metadata": {},
   "outputs": [
    {
     "data": {
      "text/plain": [
       "array([0.37180335, 0.11937428, 0.2860404 , 0.16565811, 0.15553356,\n",
       "       0.06154094, 0.1753101 , 0.41395646, 0.2791716 , 0.12612947])"
      ]
     },
     "execution_count": 21,
     "metadata": {},
     "output_type": "execute_result"
    }
   ],
   "source": [
    "def my_abs_python(x):\n",
    "    if x>0:\n",
    "        return x\n",
    "    else:\n",
    "        return -x\n",
    "    \n",
    "my_abs_numba = numba.vectorize(my_abs_python)\n",
    "\n",
    "my_abs_numba(np.random.rand(10)-.5)"
   ]
  },
  {
   "cell_type": "code",
   "execution_count": 22,
   "metadata": {},
   "outputs": [
    {
     "name": "stdout",
     "output_type": "stream",
     "text": [
      "668 µs ± 56.8 µs per loop (mean ± std. dev. of 7 runs, 1000 loops each)\n"
     ]
    }
   ],
   "source": [
    "data = np.random.rand(10**6)-.5\n",
    "\n",
    "%timeit my_abs_numba(data)"
   ]
  },
  {
   "cell_type": "code",
   "execution_count": 23,
   "metadata": {},
   "outputs": [
    {
     "name": "stdout",
     "output_type": "stream",
     "text": [
      "693 µs ± 58.1 µs per loop (mean ± std. dev. of 7 runs, 1000 loops each)\n"
     ]
    }
   ],
   "source": [
    "%timeit np.abs(data)"
   ]
  },
  {
   "cell_type": "code",
   "execution_count": null,
   "metadata": {},
   "outputs": [],
   "source": []
  }
 ],
 "metadata": {
  "kernelspec": {
   "display_name": "Python 3",
   "language": "python",
   "name": "python3"
  },
  "language_info": {
   "codemirror_mode": {
    "name": "ipython",
    "version": 3
   },
   "file_extension": ".py",
   "mimetype": "text/x-python",
   "name": "python",
   "nbconvert_exporter": "python",
   "pygments_lexer": "ipython3",
   "version": "3.8.8"
  },
  "varInspector": {
   "cols": {
    "lenName": 16,
    "lenType": 16,
    "lenVar": 40
   },
   "kernels_config": {
    "python": {
     "delete_cmd_postfix": "",
     "delete_cmd_prefix": "del ",
     "library": "var_list.py",
     "varRefreshCmd": "print(var_dic_list())"
    },
    "r": {
     "delete_cmd_postfix": ") ",
     "delete_cmd_prefix": "rm(",
     "library": "var_list.r",
     "varRefreshCmd": "cat(var_dic_list()) "
    }
   },
   "types_to_exclude": [
    "module",
    "function",
    "builtin_function_or_method",
    "instance",
    "_Feature"
   ],
   "window_display": false
  }
 },
 "nbformat": 4,
 "nbformat_minor": 1
}
