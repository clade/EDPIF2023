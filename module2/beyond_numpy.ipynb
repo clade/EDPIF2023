{
 "cells": [
  {
   "cell_type": "markdown",
   "metadata": {},
   "source": [
    "## Beyond numpy\n",
    "Some calculation cannot be efficienclty performed with numpy\n",
    "* numpy need a lot of memory\n",
    "* Operation not implemented\n",
    "\n",
    "Example : \n",
    "* Calculation of $\\pi$ (With a very very very slow formula!!!)\n",
    "$$ \\frac\\pi4 = \\sum_i \\frac{(-1)^i}{2i+1} = 1 - \\frac13 + \\frac 15 - \\frac17 + \\ldots $$\n",
    "\n",
    "* Operation similar to cumsum\n",
    "$$ y_n = f(y_{n-1}, x_n) $$"
   ]
  },
  {
   "cell_type": "code",
   "execution_count": null,
   "metadata": {},
   "outputs": [],
   "source": [
    "# Implementation in pure python\n",
    "# numpy"
   ]
  },
  {
   "cell_type": "markdown",
   "metadata": {},
   "source": [
    "## ctypes\n",
    "* Interface between python and shared library (dll, so)\n",
    "* Accelerate your code (this method is not recommended)\n",
    "* Use existing code !!!\n",
    "* Use closed source library\n",
    "\n",
    "No magic : you have to know C and deal with pointer, memory allocation, ..."
   ]
  },
  {
   "cell_type": "code",
   "execution_count": null,
   "metadata": {},
   "outputs": [],
   "source": [
    "%%writefile pi.c\n",
    "\n",
    "#include <stdio.h>\n",
    "#include <stdlib.h>\n",
    "\n",
    "int calc_pi(int N, double * out){\n",
    "    int i;\n",
    "    double sgn = 1;\n",
    "    *out = 0;\n",
    "    for(i=0; i<N; i++){\n",
    "        *out += sgn/(2*i+1);\n",
    "        sgn = -sgn;\n",
    "        }\n",
    "    }\n",
    "\n",
    "// gcc -shared -o libpi.so -fPIC pi.c  -Wno-pointer-to-int-cast"
   ]
  },
  {
   "cell_type": "code",
   "execution_count": null,
   "metadata": {},
   "outputs": [],
   "source": [
    "!gcc -shared -o libpi.so -fPIC pi.c  -Wno-pointer-to-int-cast"
   ]
  },
  {
   "cell_type": "code",
   "execution_count": null,
   "metadata": {},
   "outputs": [],
   "source": [
    "import ctypes\n",
    "lib = ctypes.cdll.LoadLibrary('./libpi.so')\n",
    "\n",
    "# Raw function\n",
    "_calc_pi = lib.calc_pi\n",
    "\n",
    "# Wrapper to be python friendly\n",
    "def calc_pi_ctypes(N):\n",
    "    out = ctypes.c_double(0)\n",
    "    _calc_pi(N, ctypes.byref(out))\n",
    "    return out.value*4\n",
    "\n",
    "calc_pi_ctypes(10**6)"
   ]
  },
  {
   "cell_type": "markdown",
   "metadata": {},
   "source": [
    "## Numba \n",
    "Compile your python code for free\n",
    "\n",
    "numba.vectorize"
   ]
  },
  {
   "cell_type": "code",
   "execution_count": null,
   "metadata": {},
   "outputs": [],
   "source": [
    "import numba\n",
    "\n",
    "numba.jit(numba.float64(numba.int32), nogil=True)(calc_pi)\n"
   ]
  }
 ],
 "metadata": {
  "kernelspec": {
   "display_name": "Python 3",
   "language": "python",
   "name": "python3"
  },
  "language_info": {
   "codemirror_mode": {
    "name": "ipython",
    "version": 3
   },
   "file_extension": ".py",
   "mimetype": "text/x-python",
   "name": "python",
   "nbconvert_exporter": "python",
   "pygments_lexer": "ipython3",
   "version": "3.8.8"
  },
  "varInspector": {
   "cols": {
    "lenName": 16,
    "lenType": 16,
    "lenVar": 40
   },
   "kernels_config": {
    "python": {
     "delete_cmd_postfix": "",
     "delete_cmd_prefix": "del ",
     "library": "var_list.py",
     "varRefreshCmd": "print(var_dic_list())"
    },
    "r": {
     "delete_cmd_postfix": ") ",
     "delete_cmd_prefix": "rm(",
     "library": "var_list.r",
     "varRefreshCmd": "cat(var_dic_list()) "
    }
   },
   "types_to_exclude": [
    "module",
    "function",
    "builtin_function_or_method",
    "instance",
    "_Feature"
   ],
   "window_display": false
  }
 },
 "nbformat": 4,
 "nbformat_minor": 1
}
