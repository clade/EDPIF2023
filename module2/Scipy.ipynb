{
 "cells": [
  {
   "cell_type": "code",
   "execution_count": 3,
   "metadata": {},
   "outputs": [],
   "source": [
    "%matplotlib inline\n",
    "from matplotlib.pyplot import figure\n",
    "import matplotlib.pyplot as plt\n",
    "\n",
    "import numpy as np"
   ]
  },
  {
   "cell_type": "markdown",
   "metadata": {},
   "source": [
    "# Scipy\n",
    "\n",
    "Scipy is a library with many numerical algorithm\n",
    "\n",
    "* Special functions\n",
    "* Integrals\n",
    "* Differential equations\n",
    "* optimisation\n",
    "* linear algebra"
   ]
  },
  {
   "cell_type": "markdown",
   "metadata": {},
   "source": [
    "## Special functions\n",
    "\n",
    "Fonctions not in numpy : Bessel, Airy, error function... "
   ]
  },
  {
   "cell_type": "code",
   "execution_count": 2,
   "metadata": {},
   "outputs": [],
   "source": [
    "from scipy.special import erf, jn"
   ]
  },
  {
   "cell_type": "code",
   "execution_count": null,
   "metadata": {},
   "outputs": [],
   "source": []
  },
  {
   "cell_type": "markdown",
   "metadata": {},
   "source": [
    "## Numerical integration\n",
    "\n",
    "Many algorithm. The simplest : ``quad``\n",
    "\n",
    "Example : error function\n",
    "    $$ \\mathrm{erf}(x) = \\int_0^x \\frac{2}{\\sqrt{\\pi}} e^{-t^2} dt$$\n",
    "    \n",
    "Remarks : \n",
    "\n",
    "* Integration to infinity (``np.inf``)\n",
    "* If you have the function, do not use an array. Quad is smarter than you.\n",
    "* If you have points, use ``trapz`` or ``simps``"
   ]
  },
  {
   "cell_type": "code",
   "execution_count": null,
   "metadata": {},
   "outputs": [],
   "source": [
    "def ma_fonction(t):\n",
    "    return 2/np.sqrt(np.pi)*np.exp(-t**2)"
   ]
  },
  {
   "cell_type": "code",
   "execution_count": null,
   "metadata": {},
   "outputs": [],
   "source": []
  },
  {
   "cell_type": "code",
   "execution_count": null,
   "metadata": {},
   "outputs": [],
   "source": []
  },
  {
   "cell_type": "code",
   "execution_count": null,
   "metadata": {},
   "outputs": [],
   "source": [
    "from scipy.integrate import trapz\n",
    "\n",
    "data_y = [0, 1, 2, 4, 8]\n",
    "data_x = [0, 2, 3, 4, 5]\n",
    "\n",
    "plt.plot(data_x, data_y)\n",
    "plt.fill_between(data_x, data_y, alpha=.5)\n",
    "\n",
    "\n",
    "trapz(data_y, data_x)"
   ]
  },
  {
   "cell_type": "code",
   "execution_count": null,
   "metadata": {},
   "outputs": [],
   "source": []
  },
  {
   "cell_type": "markdown",
   "metadata": {},
   "source": [
    "## Ordinary differential equations\n",
    "\n",
    "## Equations différentielles\n",
    "\n",
    "The package ``scipy.integrate`` contains functions to solve ODE : \n",
    "\n",
    "$$\\frac{dy}{dt} = f(t, y)$$\n",
    "    \n",
    "with given initial conditions ($y$ is known at time $t_0$). Note that $y$ can be a vector (``np.array``).\n",
    "\n",
    "We use ``solve_ivp`` (replace ``ode`` or ``odeint``): \n",
    "\n",
    "    def solve_ivp(fun, t_span, y0, method='RK45', t_eval=None, ...)\n",
    "    \n",
    "On can choos the integration metdhod (by default Runge-Kutta order 5(4) with adaptative steps)\n",
    "\n",
    "The function ``solve_ivp`` returns an object (a dictionnary) with the result (res.y) and information about the convergence of the algorithm.\n",
    "\n",
    "Example : \n",
    "$$\\frac{dy}{dt} = -y$$    \n",
    "\n",
    "\n",
    "### Higher order differential equation\n",
    "\n",
    "Increase the dimension of $y$ by adding derivative. \n",
    "\n",
    "For example : \n",
    "\n",
    "$$\\frac{d^2y}{dt^2} = \\frac{f(y)}{m}$$\n",
    "\n",
    "became :\n",
    "\n",
    "$$\\frac d{dt} \\begin{pmatrix}\n",
    "y \\\\ \n",
    "y ^\\prime\n",
    "\\end{pmatrix} = \\begin{pmatrix}\n",
    "y ^\\prime \\\\\n",
    "f(y)/m\n",
    "\\end{pmatrix} = F(y, y^\\prime)$$\n",
    "\n"
   ]
  },
  {
   "cell_type": "code",
   "execution_count": null,
   "metadata": {},
   "outputs": [],
   "source": []
  },
  {
   "cell_type": "markdown",
   "metadata": {},
   "source": [
    "## Optimisation\n",
    "\n",
    "* Zeros of a function\n",
    "* Minimum\n",
    "* least square / fit\n",
    "\n",
    "\n",
    "Example : \n",
    "* first positive solution of $\\tan(x)=x$\n",
    "* First minimum of $sinc(x)$"
   ]
  },
  {
   "cell_type": "code",
   "execution_count": 3,
   "metadata": {},
   "outputs": [],
   "source": [
    "from scipy.optimize import root_scalar, minimize_scalar"
   ]
  },
  {
   "cell_type": "code",
   "execution_count": null,
   "metadata": {},
   "outputs": [],
   "source": []
  },
  {
   "cell_type": "markdown",
   "metadata": {},
   "source": [
    "### Fit\n",
    "\n",
    "$$ y(x) = a e^{(x-x_0)^2/w^2}$$"
   ]
  },
  {
   "cell_type": "code",
   "execution_count": 9,
   "metadata": {},
   "outputs": [
    {
     "data": {
      "text/plain": [
       "<ErrorbarContainer object of 3 artists>"
      ]
     },
     "execution_count": 9,
     "metadata": {},
     "output_type": "execute_result"
    },
    {
     "data": {
      "image/png": "[encoded data removed]",
      "text/plain": [
       "<Figure size 432x288 with 1 Axes>"
      ]
     },
     "metadata": {
      "needs_background": "light"
     },
     "output_type": "display_data"
    }
   ],
   "source": [
    "from scipy.optimize import curve_fit\n",
    "\n",
    "x = np.linspace(-2, 5, 19)\n",
    "y = 1.45*np.exp(-(x-1.34)**2/1.34)\n",
    "yn = y + 0.1*np.random.normal(size=len(x))\n",
    "\n",
    "plt.errorbar(x, yn, yerr=.1, fmt='o')"
   ]
  },
  {
   "cell_type": "code",
   "execution_count": null,
   "metadata": {},
   "outputs": [],
   "source": []
  },
  {
   "cell_type": "markdown",
   "metadata": {},
   "source": [
    "### FIt of a picture"
   ]
  },
  {
   "cell_type": "code",
   "execution_count": 5,
   "metadata": {},
   "outputs": [
    {
     "data": {
      "text/plain": [
       "<matplotlib.image.AxesImage at 0x7eff659212b0>"
      ]
     },
     "execution_count": 5,
     "metadata": {},
     "output_type": "execute_result"
    },
    {
     "data": {
      "image/png": "[encoded data removed]",
      "text/plain": [
       "<Figure size 432x288 with 1 Axes>"
      ]
     },
     "metadata": {
      "needs_background": "light"
     },
     "output_type": "display_data"
    }
   ],
   "source": [
    "from matplotlib.pyplot import imread\n",
    "\n",
    "data = imread('data/exemple_gaussienne.png')\n",
    "\n",
    "fig = plt.figure()\n",
    "ax = fig.subplots(1, 1)\n",
    "\n",
    "ax.imshow(data)"
   ]
  },
  {
   "cell_type": "code",
   "execution_count": 18,
   "metadata": {},
   "outputs": [
    {
     "data": {
      "text/plain": [
       "array([ 0.83096663, 31.05667531, 28.43598741,  5.46078621])"
      ]
     },
     "execution_count": 18,
     "metadata": {},
     "output_type": "execute_result"
    }
   ],
   "source": [
    "ny, nx = data.shape\n",
    "X,Y = np.meshgrid(range(nx), range(ny))\n",
    "\n",
    "XY = np.array([X.flatten(), Y.flatten()]).transpose()\n",
    "\n",
    "def gauss(XY, amplitude, center_x, center_y, diameter):\n",
    "    x = XY[:,0]\n",
    "    y = XY[:,1]\n",
    "    return amplitude*np.exp(-((x-center_x)**2 + (y-center_y)**2)/diameter**2)\n",
    "\n",
    "p0 = [1, 30, 30, 3]\n",
    "\n",
    "popt, pcov = curve_fit(gauss, XY, data.flatten(), p0)\n",
    "popt"
   ]
  },
  {
   "cell_type": "code",
   "execution_count": 17,
   "metadata": {},
   "outputs": [
    {
     "data": {
      "text/plain": [
       "<matplotlib.image.AxesImage at 0x7eff63be0370>"
      ]
     },
     "execution_count": 17,
     "metadata": {},
     "output_type": "execute_result"
    },
    {
     "data": {
      "image/png": "[encoded data removed]",
      "text/plain": [
       "<Figure size 432x288 with 1 Axes>"
      ]
     },
     "metadata": {
      "needs_background": "light"
     },
     "output_type": "display_data"
    }
   ],
   "source": [
    "fig = plt.figure()\n",
    "ax = fig.subplots(1, 1)\n",
    "\n",
    "data_fit = gauss(XY, *popt)\n",
    "\n",
    "data_fit = data_fit.reshape((ny, nx))\n",
    "\n",
    "ax.imshow(data_fit)"
   ]
  },
  {
   "cell_type": "code",
   "execution_count": null,
   "metadata": {},
   "outputs": [],
   "source": []
  }
 ],
 "metadata": {
  "kernelspec": {
   "display_name": "Python 3",
   "language": "python",
   "name": "python3"
  },
  "language_info": {
   "codemirror_mode": {
    "name": "ipython",
    "version": 3
   },
   "file_extension": ".py",
   "mimetype": "text/x-python",
   "name": "python",
   "nbconvert_exporter": "python",
   "pygments_lexer": "ipython3",
   "version": "3.8.8"
  }
 },
 "nbformat": 4,
 "nbformat_minor": 2
}
