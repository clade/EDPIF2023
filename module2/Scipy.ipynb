{
 "cells": [
  {
   "cell_type": "code",
   "execution_count": 1,
   "metadata": {},
   "outputs": [],
   "source": [
    "from matplotlib.pyplot import figure\n",
    "import matplotlib.pyplot as plt\n",
    "\n",
    "import numpy as np"
   ]
  },
  {
   "cell_type": "markdown",
   "metadata": {},
   "source": [
    "# Scipy\n",
    "\n",
    "Scipy is a library with many numerical algorithm\n",
    "\n",
    "* Special functions\n",
    "* Integrals\n",
    "* Differential equations\n",
    "* optimisation\n",
    "* linear algebra"
   ]
  },
  {
   "cell_type": "markdown",
   "metadata": {},
   "source": [
    "## Special functions\n",
    "\n",
    "Fonctions not in numpy : Bessel, Airy, error function... "
   ]
  },
  {
   "cell_type": "code",
   "execution_count": 2,
   "metadata": {},
   "outputs": [],
   "source": [
    "from scipy.special import erf, jn"
   ]
  },
  {
   "cell_type": "code",
   "execution_count": 3,
   "metadata": {},
   "outputs": [
    {
     "data": {
      "text/plain": [
       "0.1124629160182849"
      ]
     },
     "execution_count": 3,
     "metadata": {},
     "output_type": "execute_result"
    }
   ],
   "source": [
    "erf(0.1)"
   ]
  },
  {
   "cell_type": "markdown",
   "metadata": {},
   "source": [
    "## Numerical integration\n",
    "\n",
    "Many algorithm. The simplest : ``quad``\n",
    "\n",
    "Example : error function\n",
    "    $$ \\mathrm{erf}(x) = \\int_0^x \\frac{2}{\\sqrt{\\pi}} e^{-t^2} dt$$\n",
    "    \n",
    "Remarks : \n",
    "\n",
    "* Integration to infinity (``np.inf``)\n",
    "* If you have the function, do not use an array. Quad is smarter than you.\n",
    "* If you have points, use ``trapz`` or ``simps``"
   ]
  },
  {
   "cell_type": "code",
   "execution_count": 12,
   "metadata": {},
   "outputs": [],
   "source": [
    "def ma_fonction(t):\n",
    "#    print('Hello')\n",
    "    return 2/np.sqrt(np.pi)*np.exp(-t**2)"
   ]
  },
  {
   "cell_type": "code",
   "execution_count": 13,
   "metadata": {},
   "outputs": [
    {
     "data": {
      "text/plain": [
       "1.1102230246251565e-16"
      ]
     },
     "execution_count": 13,
     "metadata": {},
     "output_type": "execute_result"
    }
   ],
   "source": [
    "from scipy.integrate import quad\n",
    "\n",
    "quad(ma_fonction, 0, 1)[0] - erf(1)"
   ]
  },
  {
   "cell_type": "code",
   "execution_count": 14,
   "metadata": {},
   "outputs": [
    {
     "data": {
      "text/plain": [
       "(1.0, 8.01297993644236e-09)"
      ]
     },
     "execution_count": 14,
     "metadata": {},
     "output_type": "execute_result"
    }
   ],
   "source": [
    "quad(ma_fonction, 0, np.inf)"
   ]
  },
  {
   "cell_type": "code",
   "execution_count": 15,
   "metadata": {},
   "outputs": [
    {
     "data": {
      "text/plain": [
       "11.5"
      ]
     },
     "execution_count": 15,
     "metadata": {},
     "output_type": "execute_result"
    },
    {
     "data": {
      "image/png": "[encoded data removed]",
      "text/plain": [
       "<Figure size 432x288 with 1 Axes>"
      ]
     },
     "metadata": {
      "needs_background": "light"
     },
     "output_type": "display_data"
    }
   ],
   "source": [
    "from scipy.integrate import trapz\n",
    "\n",
    "data_y = [0, 1, 2, 4, 8]\n",
    "data_x = [0, 2, 3, 4, 5]\n",
    "\n",
    "plt.plot(data_x, data_y)\n",
    "plt.fill_between(data_x, data_y, alpha=.5)\n",
    "\n",
    "\n",
    "trapz(data_y, data_x)"
   ]
  },
  {
   "cell_type": "code",
   "execution_count": null,
   "metadata": {},
   "outputs": [],
   "source": []
  },
  {
   "cell_type": "markdown",
   "metadata": {},
   "source": [
    "## Ordinary differential equations\n",
    "\n",
    "## Equations différentielles\n",
    "\n",
    "The package ``scipy.integrate`` contains functions to solve ODE : \n",
    "\n",
    "$$\\frac{dy}{dt} = f(t, y)$$\n",
    "    \n",
    "with given initial conditions ($y$ is known at time $t_0$). Note that $y$ can be a vector (``np.array``).\n",
    "\n",
    "We use ``solve_ivp`` (replace ``ode`` or ``odeint``): \n",
    "\n",
    "    def solve_ivp(fun, t_span, y0, method='RK45', t_eval=None, ...)\n",
    "    \n",
    "On can choos the integration metdhod (by default Runge-Kutta order 5(4) with adaptative steps)\n",
    "\n",
    "The function ``solve_ivp`` returns an object (a dictionnary) with the result (res.y) and information about the convergence of the algorithm.\n",
    "\n",
    "Example : \n",
    "$$\\frac{dy}{dt} = -y$$    \n",
    "\n",
    "\n",
    "### Higher order differential equation\n",
    "\n",
    "Increase the dimension of $y$ by adding derivative. \n",
    "\n",
    "For example : \n",
    "\n",
    "$$\\frac{d^2y}{dt^2} = \\frac{f(y)}{m}$$\n",
    "\n",
    "became :\n",
    "\n",
    "$$\\frac d{dt} \\begin{pmatrix}\n",
    "y \\\\ \n",
    "y ^\\prime\n",
    "\\end{pmatrix} = \\begin{pmatrix}\n",
    "y ^\\prime \\\\\n",
    "f(y)/m\n",
    "\\end{pmatrix} = F(y, y^\\prime)$$\n",
    "\n"
   ]
  },
  {
   "cell_type": "code",
   "execution_count": 21,
   "metadata": {},
   "outputs": [
    {
     "data": {
      "text/plain": [
       "[<matplotlib.lines.Line2D at 0x7f9e387ec400>]"
      ]
     },
     "execution_count": 21,
     "metadata": {},
     "output_type": "execute_result"
    },
    {
     "data": {
      "image/png": "[encoded data removed]",
      "text/plain": [
       "<Figure size 432x288 with 1 Axes>"
      ]
     },
     "metadata": {
      "needs_background": "light"
     },
     "output_type": "display_data"
    }
   ],
   "source": [
    "from scipy.integrate import solve_ivp\n",
    "\n",
    "def f(t, y):\n",
    "    return -y\n",
    "\n",
    "res = solve_ivp(f, [0, 1], [1], t_eval=np.linspace(0, 1))\n",
    "\n",
    "fig = figure()\n",
    "ax = fig.subplots(1, 1)\n",
    "\n",
    "ax.plot(res.t, res.y[0])"
   ]
  },
  {
   "cell_type": "code",
   "execution_count": 30,
   "metadata": {},
   "outputs": [
    {
     "data": {
      "text/plain": [
       "[<matplotlib.lines.Line2D at 0x7f9e3c144f40>]"
      ]
     },
     "execution_count": 30,
     "metadata": {},
     "output_type": "execute_result"
    },
    {
     "data": {
      "image/png": "[encoded data removed]",
      "text/plain": [
       "<Figure size 432x288 with 1 Axes>"
      ]
     },
     "metadata": {
      "needs_background": "light"
     },
     "output_type": "display_data"
    }
   ],
   "source": [
    "def f(t, y):\n",
    "    theta, theta_dot = y\n",
    "    return [theta_dot, -np.sin(theta)]\n",
    "\n",
    "y0 = [3, 0]\n",
    "\n",
    "res = solve_ivp(f, [0, 10], y0, t_eval=np.linspace(0, 10))\n",
    "fig = figure()\n",
    "ax = fig.subplots(1, 1)\n",
    "\n",
    "ax.plot(res.t, res.y[0])"
   ]
  },
  {
   "cell_type": "code",
   "execution_count": 26,
   "metadata": {},
   "outputs": [
    {
     "data": {
      "text/plain": [
       "array([[ 1.        ,  0.99562122,  0.9825195 ,  0.96077723,  0.93049582,\n",
       "         0.8918496 ,  0.84508828,  0.79053692,  0.72859596,  0.65974119,\n",
       "         0.58451819,  0.5035408 ,  0.41756076,  0.32738878,  0.23388248,\n",
       "         0.1379464 ,  0.04053198, -0.0573624 , -0.15469146, -0.25036302,\n",
       "        -0.34339494, -0.43294291, -0.51812837, -0.59815548, -0.67231122,\n",
       "        -0.73996535, -0.80057043, -0.85366182, -0.89885769, -0.93587547,\n",
       "        -0.9645715 , -0.98474152, -0.99622534, -0.99892821, -0.99282075,\n",
       "        -0.97793899, -0.95438436, -0.92232369, -0.88198919, -0.83367578,\n",
       "        -0.77769022, -0.71441384, -0.64432247, -0.56797515, -0.48601416,\n",
       "        -0.39916501, -0.30823647, -0.21412052, -0.11779237, -0.0203086 ],\n",
       "       [ 0.        , -0.08578374, -0.17108424, -0.25540705, -0.33820609,\n",
       "        -0.41888676, -0.49680653, -0.57127495, -0.64155369, -0.70685645,\n",
       "        -0.76638427, -0.81942548, -0.86500322, -0.90225739, -0.93050967,\n",
       "        -0.94926344, -0.95820386, -0.9571978 , -0.94629387, -0.92572245,\n",
       "        -0.89589992, -0.85737581, -0.81076095, -0.7567269 , -0.6960059 ,\n",
       "        -0.62939093, -0.55773565, -0.48195444, -0.40302238, -0.32189437,\n",
       "        -0.23891152, -0.15447936, -0.06908075,  0.01678451,  0.10259961,\n",
       "         0.1878308 ,  0.27192734,  0.35432152,  0.43442865,  0.51166046,\n",
       "         0.58549591,  0.65502223,  0.71928625,  0.77741028,  0.82859205,\n",
       "         0.87210479,  0.90729718,  0.93359336,  0.95049293,  0.95757291]])"
      ]
     },
     "execution_count": 26,
     "metadata": {},
     "output_type": "execute_result"
    }
   ],
   "source": [
    "res.y"
   ]
  },
  {
   "cell_type": "code",
   "execution_count": null,
   "metadata": {},
   "outputs": [],
   "source": []
  },
  {
   "cell_type": "markdown",
   "metadata": {},
   "source": [
    "## Optimisation\n",
    "\n",
    "* Zeros of a function\n",
    "* Minimum\n",
    "* least square / fit\n",
    "\n",
    "\n",
    "Example : \n",
    "* first positive solution of $\\tan(x)=x$\n",
    "* First minimum of $sinc(x)$"
   ]
  },
  {
   "cell_type": "code",
   "execution_count": 31,
   "metadata": {},
   "outputs": [],
   "source": [
    "from scipy.optimize import root_scalar, minimize_scalar"
   ]
  },
  {
   "cell_type": "code",
   "execution_count": 36,
   "metadata": {},
   "outputs": [
    {
     "data": {
      "text/plain": [
       "(4.0, 5.0)"
      ]
     },
     "execution_count": 36,
     "metadata": {},
     "output_type": "execute_result"
    },
    {
     "data": {
      "image/png": "[encoded data removed]",
      "text/plain": [
       "<Figure size 432x288 with 1 Axes>"
      ]
     },
     "metadata": {
      "needs_background": "light"
     },
     "output_type": "display_data"
    }
   ],
   "source": [
    "x = np.linspace(0, 10, 200)\n",
    "\n",
    "fig = figure()\n",
    "ax = fig.subplots(1, 1)\n",
    "\n",
    "ax.plot(x, x)\n",
    "ax.plot(x, np.tan(x))\n",
    "ax.set_ylim(-1, 10)\n",
    "ax.set_xlim(4, 5)"
   ]
  },
  {
   "cell_type": "code",
   "execution_count": 39,
   "metadata": {},
   "outputs": [
    {
     "data": {
      "text/plain": [
       "4.493409457909069"
      ]
     },
     "execution_count": 39,
     "metadata": {},
     "output_type": "execute_result"
    }
   ],
   "source": [
    "res = root_scalar(lambda x: np.tan(x) - x, x0=4, x1=4.6)\n",
    "res.root"
   ]
  },
  {
   "cell_type": "code",
   "execution_count": 40,
   "metadata": {},
   "outputs": [
    {
     "data": {
      "text/plain": [
       "4.493409457909159"
      ]
     },
     "execution_count": 40,
     "metadata": {},
     "output_type": "execute_result"
    }
   ],
   "source": [
    "np.tan(res.root)"
   ]
  },
  {
   "cell_type": "code",
   "execution_count": 46,
   "metadata": {},
   "outputs": [
    {
     "data": {
      "text/plain": [
       " message: Solution found.\n",
       " success: True\n",
       "  status: 0\n",
       "     fun: -0.2172336282112185\n",
       "       x: 1.430296598813049\n",
       "     nit: 9\n",
       "    nfev: 9"
      ]
     },
     "execution_count": 46,
     "metadata": {},
     "output_type": "execute_result"
    },
    {
     "data": {
      "image/png": "[encoded data removed]",
      "text/plain": [
       "<Figure size 432x288 with 1 Axes>"
      ]
     },
     "metadata": {
      "needs_background": "light"
     },
     "output_type": "display_data"
    }
   ],
   "source": [
    "x = np.linspace(0, 10)\n",
    "\n",
    "fig = figure()\n",
    "ax =fig.subplots(1, 1)\n",
    "\n",
    "ax.plot(x, np.sinc(x))\n",
    "ax.grid()\n",
    "\n",
    "minimize_scalar(np.sinc, bounds = [1, 2])"
   ]
  },
  {
   "cell_type": "code",
   "execution_count": 45,
   "metadata": {},
   "outputs": [],
   "source": [
    "minimize_scalar?"
   ]
  },
  {
   "cell_type": "markdown",
   "metadata": {},
   "source": [
    "### Fit\n",
    "\n",
    "$$ y(x) = a e^{(x-x_0)^2/w^2}$$"
   ]
  },
  {
   "cell_type": "code",
   "execution_count": 47,
   "metadata": {},
   "outputs": [
    {
     "data": {
      "text/plain": [
       "<ErrorbarContainer object of 3 artists>"
      ]
     },
     "execution_count": 47,
     "metadata": {},
     "output_type": "execute_result"
    },
    {
     "data": {
      "image/png": "[encoded data removed]",
      "text/plain": [
       "<Figure size 432x288 with 1 Axes>"
      ]
     },
     "metadata": {
      "needs_background": "light"
     },
     "output_type": "display_data"
    }
   ],
   "source": [
    "from scipy.optimize import curve_fit\n",
    "\n",
    "x = np.linspace(-2, 5, 19)\n",
    "y = 1.45*np.exp(-(x-1.34)**2/1.34)\n",
    "yn = y + 0.1*np.random.normal(size=len(x))\n",
    "\n",
    "plt.errorbar(x, yn, yerr=.1, fmt='o')"
   ]
  },
  {
   "cell_type": "code",
   "execution_count": 59,
   "metadata": {},
   "outputs": [
    {
     "data": {
      "text/plain": [
       "[<matplotlib.lines.Line2D at 0x7f9e3796fac0>]"
      ]
     },
     "execution_count": 59,
     "metadata": {},
     "output_type": "execute_result"
    },
    {
     "data": {
      "image/png": "[encoded data removed]",
      "text/plain": [
       "<Figure size 432x288 with 1 Axes>"
      ]
     },
     "metadata": {
      "needs_background": "light"
     },
     "output_type": "display_data"
    }
   ],
   "source": [
    "def fit_function(x, center, width, amplitude, offset):\n",
    "    return offset + amplitude*np.exp(-(x-center)**2/(2*width**2)  )\n",
    "\n",
    "x_plot = np.linspace(-3, 6, 200)\n",
    "\n",
    "plt.errorbar(x, yn, yerr=.1, fmt='o')\n",
    "p0 = [1, 1, 1.5, 0]\n",
    "#plt.plot(x_plot, fit_function(x_plot, *p0))\n",
    "\n",
    "p_opt, p_cov = curve_fit(fit_function, x, yn, p0)\n",
    "\n",
    "plt.plot(x_plot, fit_function(x_plot, *p_opt))\n"
   ]
  },
  {
   "cell_type": "code",
   "execution_count": 57,
   "metadata": {},
   "outputs": [
    {
     "data": {
      "text/plain": [
       "0.048577439279207775"
      ]
     },
     "execution_count": 57,
     "metadata": {},
     "output_type": "execute_result"
    }
   ],
   "source": [
    "np.sqrt(p_cov[0, 0])"
   ]
  },
  {
   "cell_type": "code",
   "execution_count": null,
   "metadata": {},
   "outputs": [],
   "source": []
  },
  {
   "cell_type": "markdown",
   "metadata": {},
   "source": [
    "### FIt of a picture"
   ]
  },
  {
   "cell_type": "code",
   "execution_count": 5,
   "metadata": {},
   "outputs": [
    {
     "data": {
      "text/plain": [
       "<matplotlib.image.AxesImage at 0x7eff659212b0>"
      ]
     },
     "execution_count": 5,
     "metadata": {},
     "output_type": "execute_result"
    },
    {
     "data": {
      "image/png": "[encoded data removed]",
      "text/plain": [
       "<Figure size 432x288 with 1 Axes>"
      ]
     },
     "metadata": {
      "needs_background": "light"
     },
     "output_type": "display_data"
    }
   ],
   "source": [
    "from matplotlib.pyplot import imread\n",
    "\n",
    "data = imread('data/exemple_gaussienne.png')\n",
    "\n",
    "fig = plt.figure()\n",
    "ax = fig.subplots(1, 1)\n",
    "\n",
    "ax.imshow(data)"
   ]
  },
  {
   "cell_type": "code",
   "execution_count": 18,
   "metadata": {},
   "outputs": [
    {
     "data": {
      "text/plain": [
       "array([ 0.83096663, 31.05667531, 28.43598741,  5.46078621])"
      ]
     },
     "execution_count": 18,
     "metadata": {},
     "output_type": "execute_result"
    }
   ],
   "source": [
    "ny, nx = data.shape\n",
    "X,Y = np.meshgrid(range(nx), range(ny))\n",
    "\n",
    "XY = np.array([X.flatten(), Y.flatten()]).transpose()\n",
    "\n",
    "def gauss(XY, amplitude, center_x, center_y, diameter):\n",
    "    x = XY[:,0]\n",
    "    y = XY[:,1]\n",
    "    return amplitude*np.exp(-((x-center_x)**2 + (y-center_y)**2)/diameter**2)\n",
    "\n",
    "p0 = [1, 30, 30, 3]\n",
    "\n",
    "popt, pcov = curve_fit(gauss, XY, data.flatten(), p0)\n",
    "popt"
   ]
  },
  {
   "cell_type": "code",
   "execution_count": 17,
   "metadata": {},
   "outputs": [
    {
     "data": {
      "text/plain": [
       "<matplotlib.image.AxesImage at 0x7eff63be0370>"
      ]
     },
     "execution_count": 17,
     "metadata": {},
     "output_type": "execute_result"
    },
    {
     "data": {
      "image/png": "[encoded data removed]",
      "text/plain": [
       "<Figure size 432x288 with 1 Axes>"
      ]
     },
     "metadata": {
      "needs_background": "light"
     },
     "output_type": "display_data"
    }
   ],
   "source": [
    "fig = plt.figure()\n",
    "ax = fig.subplots(1, 1)\n",
    "\n",
    "data_fit = gauss(XY, *popt)\n",
    "\n",
    "data_fit = data_fit.reshape((ny, nx))\n",
    "\n",
    "ax.imshow(data_fit)"
   ]
  },
  {
   "cell_type": "code",
   "execution_count": null,
   "metadata": {},
   "outputs": [],
   "source": []
  }
 ],
 "metadata": {
  "kernelspec": {
   "display_name": "Python 3",
   "language": "python",
   "name": "python3"
  },
  "language_info": {
   "codemirror_mode": {
    "name": "ipython",
    "version": 3
   },
   "file_extension": ".py",
   "mimetype": "text/x-python",
   "name": "python",
   "nbconvert_exporter": "python",
   "pygments_lexer": "ipython3",
   "version": "3.8.8"
  },
  "varInspector": {
   "cols": {
    "lenName": 16,
    "lenType": 16,
    "lenVar": 40
   },
   "kernels_config": {
    "python": {
     "delete_cmd_postfix": "",
     "delete_cmd_prefix": "del ",
     "library": "var_list.py",
     "varRefreshCmd": "print(var_dic_list())"
    },
    "r": {
     "delete_cmd_postfix": ") ",
     "delete_cmd_prefix": "rm(",
     "library": "var_list.r",
     "varRefreshCmd": "cat(var_dic_list()) "
    }
   },
   "types_to_exclude": [
    "module",
    "function",
    "builtin_function_or_method",
    "instance",
    "_Feature"
   ],
   "window_display": false
  }
 },
 "nbformat": 4,
 "nbformat_minor": 2
}
