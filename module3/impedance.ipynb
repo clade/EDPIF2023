{
 "cells": [
  {
   "cell_type": "code",
   "execution_count": 39,
   "id": "a33c6c66",
   "metadata": {},
   "outputs": [],
   "source": [
    "import dataclasses\n",
    "\n",
    "class BipolarCircuit(object):\n",
    "    def __or__(self, other):\n",
    "        return Parallel(self, other)\n",
    "    \n",
    "    def __add__(self, other):\n",
    "        return Serial(self, other)\n",
    "\n",
    "class Combination(BipolarCircuit):\n",
    "    def __init__(self, *args):\n",
    "        self._components = args\n",
    "\n",
    "    def __repr__(self):\n",
    "        args = ', '.join(repr(item) for item in self._components)\n",
    "        return f\"{self.__class__.__name__}({args})\"\n",
    "    \n",
    "    @property\n",
    "    def bom(self):\n",
    "        output = []\n",
    "        for item in self._components:\n",
    "            output.extend(item.bom)\n",
    "        return output\n",
    "\n",
    "class Serial(Combination):\n",
    "    def impedance(self, omega):\n",
    "        return sum([component.impedance(omega) for component in self._components])\n",
    "    \n",
    "class Parallel(Combination):\n",
    "    def impedance(self, omega):\n",
    "        return 1/(sum([1/component.impedance(omega) for component in self._components]))\n",
    "\n",
    "@dataclasses.dataclass\n",
    "class Device(BipolarCircuit):\n",
    "    value : float\n",
    "\n",
    "    @property\n",
    "    def bom(self):\n",
    "        return [self]\n",
    "        \n",
    "class Resistor(Device):\n",
    "    def impedance(self, omega):\n",
    "        return self.value\n",
    "        \n",
    "class Capacitor(Device):\n",
    "    def impedance(self, omega):\n",
    "        return 1/(1J*omega*self.value)\n",
    "        \n",
    "class Inductor(Device):\n",
    "    def impedance(self, omega):\n",
    "        return 1J*omega*self.value\n",
    "        "
   ]
  },
  {
   "cell_type": "code",
   "execution_count": 42,
   "id": "6803d68b",
   "metadata": {},
   "outputs": [
    {
     "data": {
      "text/plain": [
       "[Resistor(value=10),\n",
       " Capacitor(value=1e-05),\n",
       " Inductor(value=1.5e-05),\n",
       " Resistor(value=5)]"
      ]
     },
     "execution_count": 42,
     "metadata": {},
     "output_type": "execute_result"
    }
   ],
   "source": [
    "my_circuit = Serial(Parallel(Resistor(10),Capacitor(1E-5),Inductor(15E-6)),\n",
    "Resistor(5))\n",
    "my_circuit = (Resistor(10)|Capacitor(1E-5)|Inductor(15E-6))+Resistor(5)\n",
    "my_circuit#.impedance(1E5)\n",
    "#Resistor(10)\n",
    "my_circuit.bom"
   ]
  },
  {
   "cell_type": "markdown",
   "id": "8ec3615f",
   "metadata": {},
   "source": [
    "##### from matplotlib import pyplot as plt\n",
    "import numpy as np\n",
    "\n",
    "pulsation = np.logspace(4, 6, 500)\n",
    "plt.semilogx(pulsation, np.abs(my_circuit.impedance(pulsation)))"
   ]
  },
  {
   "cell_type": "code",
   "execution_count": null,
   "id": "e7fb889a",
   "metadata": {},
   "outputs": [],
   "source": []
  }
 ],
 "metadata": {
  "kernelspec": {
   "display_name": "Python 3",
   "language": "python",
   "name": "python3"
  },
  "language_info": {
   "codemirror_mode": {
    "name": "ipython",
    "version": 3
   },
   "file_extension": ".py",
   "mimetype": "text/x-python",
   "name": "python",
   "nbconvert_exporter": "python",
   "pygments_lexer": "ipython3",
   "version": "3.8.8"
  },
  "varInspector": {
   "cols": {
    "lenName": 16,
    "lenType": 16,
    "lenVar": 40
   },
   "kernels_config": {
    "python": {
     "delete_cmd_postfix": "",
     "delete_cmd_prefix": "del ",
     "library": "var_list.py",
     "varRefreshCmd": "print(var_dic_list())"
    },
    "r": {
     "delete_cmd_postfix": ") ",
     "delete_cmd_prefix": "rm(",
     "library": "var_list.r",
     "varRefreshCmd": "cat(var_dic_list()) "
    }
   },
   "types_to_exclude": [
    "module",
    "function",
    "builtin_function_or_method",
    "instance",
    "_Feature"
   ],
   "window_display": false
  }
 },
 "nbformat": 4,
 "nbformat_minor": 5
}
