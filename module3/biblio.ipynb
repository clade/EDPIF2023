{
 "cells": [
  {
   "cell_type": "code",
   "execution_count": 118,
   "id": "19955f73",
   "metadata": {},
   "outputs": [],
   "source": [
    "class BibItem(object):\n",
    "    @property\n",
    "    def key(self):\n",
    "        return f\"{self.author.split()[-1]}{self.year}\"\n",
    "    \n",
    "\n",
    "class Book(BibItem):\n",
    "    def __init__(self, title, author, year):\n",
    "        self.title = title\n",
    "        self.author = author\n",
    "        self.year = year\n",
    "    \n",
    "    def __repr__(self):\n",
    "        return f\"Book({self.title!r}, {self.author!r}, {self.year!r})\"\n",
    "\n",
    "    def to_latex(self):\n",
    "        return f\"\\\\bibitem{{{self.key}}}\\n {self.author} ({self.year}) \\emph{{{self.title}}}\"\n",
    "    \n",
    "    def __eq__(self, other):\n",
    "        if isinstance(other, Book):\n",
    "            return (self.title==other.title) and (self.year==other.year) and (self.author==other.author)\n",
    "        return NotImplemented\n",
    "        \n",
    "class Article(BibItem):\n",
    "    def __init__(self, title, author, year, journal, page):\n",
    "        self.title = title\n",
    "        self.author = author\n",
    "        self.year = year\n",
    "        self.journal = journal\n",
    "        self.page = page\n",
    "\n",
    "    def __repr__(self):\n",
    "        return f\"Book({self.title!r}, {self.author!r}, {self.year!r}, {self.journal!r}, {self.page!r})\"\n",
    "        \n",
    "    def to_latex(self):\n",
    "        return f\"\\\\bibitem{{{self.key}}}\\n {self.author} ({self.year}) \\emph{{{self.title}}}, in {self.journal}, p. {self.page}\"\n",
    "\n",
    "        \n",
    "class Bibliography:\n",
    "    def __init__(self, books=None):\n",
    "        if books==None:\n",
    "            books = []\n",
    "        self._books = books\n",
    "        \n",
    "    def __repr__(self):\n",
    "        return f\"Bibliography({self._books!r})\"\n",
    "    \n",
    "    def __getitem__(self, key):\n",
    "        if isinstance(key, int):\n",
    "            return self._books[key]\n",
    "        if isinstance(key, str):\n",
    "            for book in self._books:\n",
    "                if book.key==key:\n",
    "                    return book\n",
    "        raise Exception(f'Cannot get {key}')\n",
    "        \n",
    "    def __len__(self):\n",
    "        return len(self._books)\n",
    "    \n",
    "    def __item__(self):\n",
    "        return self._books\n",
    "    \n",
    "    def append(self, book):\n",
    "        self._books.append(book)\n",
    "        \n",
    "    def to_latex(self):\n",
    "        output = r\"\\begin{thebibliography}{9}\" + '\\n'\n",
    "        for book in self._books:\n",
    "            output += book.to_latex() + '\\n'\n",
    "        output += r\"\\end{thebibliography}\"\n",
    "        return output\n",
    "        \n",
    "    def filter_by_year(self, year):\n",
    "        list_of_books = [book for book in self._books if book.year==year]\n",
    "        return Bibliography(list_of_books)\n",
    "        "
   ]
  },
  {
   "cell_type": "code",
   "execution_count": 119,
   "id": "a65ef87d",
   "metadata": {},
   "outputs": [
    {
     "data": {
      "text/plain": [
       "True"
      ]
     },
     "execution_count": 119,
     "metadata": {},
     "output_type": "execute_result"
    }
   ],
   "source": [
    "bookA = Book(\"A very nice book\", \"F. Dupont\", 2014)\n",
    "bookB = Book(\"A very nice book\", \"F. Dupont\", 2014)\n",
    "\n",
    "bookA==bookB\n"
   ]
  },
  {
   "cell_type": "code",
   "execution_count": null,
   "id": "4aed8ca3",
   "metadata": {},
   "outputs": [],
   "source": []
  },
  {
   "cell_type": "code",
   "execution_count": 120,
   "id": "7d0ea554",
   "metadata": {},
   "outputs": [
    {
     "data": {
      "text/plain": [
       "'\\\\bibitem{Dupont2014}\\n F. Dupont (2014) \\\\emph{A very nice book}, in journal, p. 3'"
      ]
     },
     "execution_count": 120,
     "metadata": {},
     "output_type": "execute_result"
    }
   ],
   "source": [
    "article1 = Article(\"A very nice book\", \"F. Dupont\", 2014, 'journal', 3)\n",
    "article1.to_latex()"
   ]
  },
  {
   "cell_type": "code",
   "execution_count": 121,
   "id": "649f17fd",
   "metadata": {
    "scrolled": true
   },
   "outputs": [
    {
     "name": "stdout",
     "output_type": "stream",
     "text": [
      "\\begin{thebibliography}{9}\n",
      "\\bibitem{Dupont2014}\n",
      " F. Dupont (2014) \\emph{A very nice book}\n",
      "\\bibitem{Einstein1923}\n",
      " A. Einstein (1923) \\emph{A very smart book}\n",
      "\\bibitem{Duck1937}\n",
      " D. Duck (1937) \\emph{A very stupid comics}\n",
      "\\bibitem{Dupont2014}\n",
      " F. Dupont (2014) \\emph{A very nice book}, in journal, p. 3\n",
      "\\end{thebibliography}\n"
     ]
    }
   ],
   "source": [
    "book1 = Book(\"A very nice book\", \"F. Dupont\", 2014)\n",
    "book2 = Book(\"A very smart book\", \"A. Einstein\", 1923)\n",
    "book3 = Book(\"A very stupid comics\", \"D. Duck\", 1937)\n",
    "biblio = Bibliography([book1, book2, book3, article1])\n",
    "biblio2 = Bibliography()\n",
    "biblio2\n",
    "biblio2.append(book1)\n",
    "biblio2\n",
    "book1.to_latex()\n",
    "print(biblio.to_latex())"
   ]
  },
  {
   "cell_type": "code",
   "execution_count": 122,
   "id": "890d8dc6",
   "metadata": {},
   "outputs": [
    {
     "data": {
      "text/plain": [
       "Book('A very smart book', 'A. Einstein', 1923)"
      ]
     },
     "execution_count": 122,
     "metadata": {},
     "output_type": "execute_result"
    }
   ],
   "source": [
    "biblio['Einstein1923']"
   ]
  },
  {
   "cell_type": "code",
   "execution_count": 123,
   "id": "34f36f50",
   "metadata": {},
   "outputs": [
    {
     "data": {
      "text/plain": [
       "4"
      ]
     },
     "execution_count": 123,
     "metadata": {},
     "output_type": "execute_result"
    }
   ],
   "source": [
    "len(biblio)"
   ]
  },
  {
   "cell_type": "code",
   "execution_count": 124,
   "id": "04385e0c",
   "metadata": {},
   "outputs": [
    {
     "name": "stdout",
     "output_type": "stream",
     "text": [
      "Book('A very nice book', 'F. Dupont', 2014)\n",
      "Book('A very smart book', 'A. Einstein', 1923)\n",
      "Book('A very stupid comics', 'D. Duck', 1937)\n",
      "Book('A very nice book', 'F. Dupont', 2014, 'journal', 3)\n"
     ]
    }
   ],
   "source": [
    "for book in biblio:\n",
    "    print(book)"
   ]
  },
  {
   "cell_type": "code",
   "execution_count": null,
   "id": "934e63aa",
   "metadata": {},
   "outputs": [],
   "source": []
  },
  {
   "cell_type": "code",
   "execution_count": 73,
   "id": "3729a27a",
   "metadata": {},
   "outputs": [
    {
     "data": {
      "text/plain": [
       "Bibliography([Book('A very smart book', 'A. Einstein', 1923)])"
      ]
     },
     "execution_count": 73,
     "metadata": {},
     "output_type": "execute_result"
    }
   ],
   "source": [
    "biblio.filter_by_year(1923)"
   ]
  },
  {
   "cell_type": "code",
   "execution_count": 51,
   "id": "42f8e25e",
   "metadata": {},
   "outputs": [
    {
     "data": {
      "text/plain": [
       "Bibliography([Book('A very nice book', 'F. Dupont', 2014), Book('A very smart book', 'A. Einstein', 1923), Book('A very stupid comics', 'D. Duck', 1937)])"
      ]
     },
     "execution_count": 51,
     "metadata": {},
     "output_type": "execute_result"
    }
   ],
   "source": [
    "biblio = Bibliography([book1, book2, book3])\n",
    "biblio\n",
    "Bibliography([Book('A very nice book', 'F. Dupont', 2014), Book('A very smart book', 'A. Einstein', 1923), Book('A very stupid comics', 'D. Duck', 1937)])"
   ]
  },
  {
   "cell_type": "code",
   "execution_count": 36,
   "id": "7f6c6a7a",
   "metadata": {},
   "outputs": [
    {
     "data": {
      "text/plain": [
       "Book('A very nice book', 'F. Dupont', 2014)"
      ]
     },
     "execution_count": 36,
     "metadata": {},
     "output_type": "execute_result"
    }
   ],
   "source": [
    "Book('A very nice book', 'F. Dupont', 2014)"
   ]
  },
  {
   "cell_type": "code",
   "execution_count": 37,
   "id": "6abcaaff",
   "metadata": {},
   "outputs": [
    {
     "data": {
      "text/plain": [
       "Book('A very nice book, with 100 pages', 'F. Dupont', 2014)"
      ]
     },
     "execution_count": 37,
     "metadata": {},
     "output_type": "execute_result"
    }
   ],
   "source": [
    "Book(\"A very nice book, with 100 pages\", \"F. Dupont\", 2014)"
   ]
  },
  {
   "cell_type": "code",
   "execution_count": 26,
   "id": "7d5481a7",
   "metadata": {},
   "outputs": [
    {
     "name": "stdout",
     "output_type": "stream",
     "text": [
      "John's dog\n"
     ]
    }
   ],
   "source": [
    "s = \"John's dog\"\n",
    "print(s)"
   ]
  },
  {
   "cell_type": "code",
   "execution_count": 27,
   "id": "03a97d2c",
   "metadata": {},
   "outputs": [
    {
     "data": {
      "text/plain": [
       "\"John's dog\""
      ]
     },
     "execution_count": 27,
     "metadata": {},
     "output_type": "execute_result"
    }
   ],
   "source": [
    "s"
   ]
  },
  {
   "cell_type": "code",
   "execution_count": null,
   "id": "345bc0b1",
   "metadata": {},
   "outputs": [],
   "source": [
    "[f(item) for item in liste if g(item)]\n",
    "\n",
    "output = []\n",
    "for item in liste:\n",
    "    if g(item):\n",
    "        output.append(f(item))"
   ]
  }
 ],
 "metadata": {
  "kernelspec": {
   "display_name": "Python 3",
   "language": "python",
   "name": "python3"
  },
  "language_info": {
   "codemirror_mode": {
    "name": "ipython",
    "version": 3
   },
   "file_extension": ".py",
   "mimetype": "text/x-python",
   "name": "python",
   "nbconvert_exporter": "python",
   "pygments_lexer": "ipython3",
   "version": "3.8.8"
  },
  "varInspector": {
   "cols": {
    "lenName": 16,
    "lenType": 16,
    "lenVar": 40
   },
   "kernels_config": {
    "python": {
     "delete_cmd_postfix": "",
     "delete_cmd_prefix": "del ",
     "library": "var_list.py",
     "varRefreshCmd": "print(var_dic_list())"
    },
    "r": {
     "delete_cmd_postfix": ") ",
     "delete_cmd_prefix": "rm(",
     "library": "var_list.r",
     "varRefreshCmd": "cat(var_dic_list()) "
    }
   },
   "types_to_exclude": [
    "module",
    "function",
    "builtin_function_or_method",
    "instance",
    "_Feature"
   ],
   "window_display": false
  }
 },
 "nbformat": 4,
 "nbformat_minor": 5
}
