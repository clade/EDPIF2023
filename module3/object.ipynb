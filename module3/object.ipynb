{
 "cells": [
  {
   "cell_type": "markdown",
   "metadata": {},
   "source": [
    "# Object in Python\n",
    "\n",
    "* Everything is an object\n",
    "* We can create our own objects"
   ]
  },
  {
   "cell_type": "code",
   "execution_count": 177,
   "metadata": {},
   "outputs": [],
   "source": [
    "import math\n",
    "class Complex:\n",
    "    def __init__(self, real_part, imaginary_part):\n",
    "        self.re = real_part\n",
    "        self.im = imaginary_part\n",
    "#        self.norm = math.sqrt(real_part**2 + imaginary_part**2)\n",
    "        \n",
    "    @classmethod\n",
    "    def from_polar(cls, r, theta):\n",
    "        return cls(r*math.cos(theta), r*math.sin(theta))\n",
    "    \n",
    "    def conjugate(self):\n",
    "        return Complex(self.re, -self.im)\n",
    "\n",
    "    @property\n",
    "    def norm(self):\n",
    "        return math.sqrt(self.re**2 + self.im**2)\n",
    "    \n",
    "    @property\n",
    "    def theta(self):\n",
    "        return math.atan2(self.im, self.re)\n",
    "    \n",
    "    def __str__(self):\n",
    "        if self.im==0:\n",
    "            return f\"{self.re}\"\n",
    "        if self.re==0:\n",
    "            return f\"{self.im}J\"\n",
    "        if self.im<0:\n",
    "            return f\"{self.re} - {-self.im}J\"\n",
    "        return f\"{self.re} + {self.im}J\"\n",
    "    \n",
    "    def __repr__(self):\n",
    "        return f\"Complex({self.re}, {self.im})\"\n",
    "\n",
    "    @staticmethod\n",
    "    def _try_to_convert_other_to_complex(other):\n",
    "        if isinstance(other, (int, float)):\n",
    "            return  Complex(other, 0)\n",
    "        return other\n",
    "    \n",
    "    def __add__(self, other):\n",
    "        other = self._try_to_convert_other_to_complex(other)\n",
    "        if isinstance(other, Complex):\n",
    "            return Complex(self.re + other.re, self.im + other.im)\n",
    "        return NotImplemented\n",
    "    \n",
    "    def __radd__(self, other):\n",
    "        return self + other\n",
    "        \n",
    "    def __sub__(self, other):\n",
    "        other = self._try_to_convert_other_to_complex(other)\n",
    "        if isinstance(other, Complex):\n",
    "            return Complex(self.re - other.re, self.im - other.im)\n",
    "        return NotImplemented\n",
    "    \n",
    "    def __mul__(self, other):\n",
    "        other = self._try_to_convert_other_to_complex(other)\n",
    "        if isinstance(other, Complex):\n",
    "            return Complex.from_polar(self.norm*other.norm, self.theta + other.theta)\n",
    "        return NotImplemented\n",
    "\n",
    "    def __truediv__(self, other):\n",
    "        other = self._try_to_convert_other_to_complex(other)\n",
    "        if isinstance(other, Complex):\n",
    "            return Complex.from_polar(self.norm/other.norm, self.theta - other.theta)\n",
    "        return NotImplemented\n",
    "\n",
    "            \n",
    "    def __rsub__(self, other):    \n",
    "        return -self + other\n",
    "    \n",
    "    def __neg__(self):\n",
    "        return Complex(-self.re, -self.im)"
   ]
  },
  {
   "cell_type": "code",
   "execution_count": 178,
   "metadata": {},
   "outputs": [
    {
     "data": {
      "text/plain": [
       "Complex(1.761378246335819, -0.33427616353818485)"
      ]
     },
     "execution_count": 178,
     "metadata": {},
     "output_type": "execute_result"
    }
   ],
   "source": [
    "z1 = Complex(1, 2)\n",
    "z2 = Complex(.34, 1.2)\n",
    "z1 / z2"
   ]
  },
  {
   "cell_type": "code",
   "execution_count": 181,
   "metadata": {},
   "outputs": [
    {
     "data": {
      "text/plain": [
       "0"
      ]
     },
     "execution_count": 181,
     "metadata": {},
     "output_type": "execute_result"
    }
   ],
   "source": [
    "1//2"
   ]
  },
  {
   "cell_type": "code",
   "execution_count": 171,
   "metadata": {},
   "outputs": [
    {
     "data": {
      "text/plain": [
       "Complex(0.7071067811865476, 0.7071067811865475)"
      ]
     },
     "execution_count": 171,
     "metadata": {},
     "output_type": "execute_result"
    }
   ],
   "source": [
    "Complex.from_polar(1, math.pi/4)"
   ]
  },
  {
   "cell_type": "code",
   "execution_count": 151,
   "metadata": {},
   "outputs": [
    {
     "data": {
      "text/plain": [
       "1.1071487177940904"
      ]
     },
     "execution_count": 151,
     "metadata": {},
     "output_type": "execute_result"
    }
   ],
   "source": [
    "z1.theta"
   ]
  },
  {
   "cell_type": "code",
   "execution_count": 152,
   "metadata": {},
   "outputs": [
    {
     "data": {
      "text/plain": [
       "-2.0344439357957027"
      ]
     },
     "execution_count": 152,
     "metadata": {},
     "output_type": "execute_result"
    }
   ],
   "source": [
    "Complex(-1, -2).theta"
   ]
  },
  {
   "cell_type": "code",
   "execution_count": 153,
   "metadata": {},
   "outputs": [
    {
     "data": {
      "text/plain": [
       "-1.5707963267948966"
      ]
     },
     "execution_count": 153,
     "metadata": {},
     "output_type": "execute_result"
    }
   ],
   "source": [
    "Complex(0, -2).theta"
   ]
  },
  {
   "cell_type": "code",
   "execution_count": null,
   "metadata": {},
   "outputs": [],
   "source": []
  },
  {
   "cell_type": "code",
   "execution_count": 128,
   "metadata": {},
   "outputs": [
    {
     "data": {
      "text/plain": [
       "Complex(-1, -2)"
      ]
     },
     "execution_count": 128,
     "metadata": {},
     "output_type": "execute_result"
    }
   ],
   "source": [
    "-z1"
   ]
  },
  {
   "cell_type": "code",
   "execution_count": 129,
   "metadata": {},
   "outputs": [
    {
     "name": "stdout",
     "output_type": "stream",
     "text": [
      "1 - 2J\n"
     ]
    }
   ],
   "source": [
    "z1 = z.conjugate()\n",
    "print(z1)\n"
   ]
  },
  {
   "cell_type": "code",
   "execution_count": 53,
   "metadata": {},
   "outputs": [
    {
     "data": {
      "text/plain": [
       "<__main__.Complex at 0x7f2622d03f70>"
      ]
     },
     "execution_count": 53,
     "metadata": {},
     "output_type": "execute_result"
    }
   ],
   "source": [
    "z.conjugate()"
   ]
  },
  {
   "cell_type": "code",
   "execution_count": 48,
   "metadata": {},
   "outputs": [
    {
     "name": "stdout",
     "output_type": "stream",
     "text": [
      "[0 1 2]\n"
     ]
    }
   ],
   "source": [
    "import numpy as np\n",
    "\n",
    "a = np.arange(3)\n",
    "print(a)"
   ]
  },
  {
   "cell_type": "code",
   "execution_count": 49,
   "metadata": {},
   "outputs": [
    {
     "data": {
      "text/plain": [
       "array([0, 1, 2])"
      ]
     },
     "execution_count": 49,
     "metadata": {},
     "output_type": "execute_result"
    }
   ],
   "source": [
    "a"
   ]
  },
  {
   "cell_type": "code",
   "execution_count": 50,
   "metadata": {},
   "outputs": [
    {
     "data": {
      "text/plain": [
       "array([0, 1, 2])"
      ]
     },
     "execution_count": 50,
     "metadata": {},
     "output_type": "execute_result"
    }
   ],
   "source": [
    "np.array([0, 1, 2])"
   ]
  },
  {
   "cell_type": "code",
   "execution_count": 51,
   "metadata": {},
   "outputs": [
    {
     "data": {
      "text/plain": [
       "'[0 1 2]'"
      ]
     },
     "execution_count": 51,
     "metadata": {},
     "output_type": "execute_result"
    }
   ],
   "source": [
    "a.__str__()"
   ]
  },
  {
   "cell_type": "code",
   "execution_count": 52,
   "metadata": {},
   "outputs": [
    {
     "data": {
      "text/plain": [
       "'array([0, 1, 2])'"
      ]
     },
     "execution_count": 52,
     "metadata": {},
     "output_type": "execute_result"
    }
   ],
   "source": [
    "a.__repr__()"
   ]
  },
  {
   "cell_type": "code",
   "execution_count": 167,
   "metadata": {},
   "outputs": [
    {
     "name": "stdout",
     "output_type": "stream",
     "text": [
      "1\n",
      "[3]\n"
     ]
    }
   ],
   "source": [
    "class Test:\n",
    "    a = 1\n",
    "    b = []\n",
    "    \n",
    "    def f(self, x):\n",
    "        return self.a + x\n",
    "    \n",
    "    @classmethod\n",
    "    def f(cls, c):\n",
    "        print(c)\n",
    "        print(cls)\n",
    "    \n",
    "t1 = Test()\n",
    "t2 = Test()\n",
    "\n",
    "print(t1.a)\n",
    "t1.a = 3\n",
    "t2.a\n",
    "\n",
    "t1.b.append(3)\n",
    "print(t2.b)"
   ]
  },
  {
   "cell_type": "code",
   "execution_count": 168,
   "metadata": {},
   "outputs": [
    {
     "name": "stdout",
     "output_type": "stream",
     "text": [
      "1\n",
      "<class '__main__.Test'>\n"
     ]
    }
   ],
   "source": [
    "Test.f(1)"
   ]
  },
  {
   "cell_type": "code",
   "execution_count": 163,
   "metadata": {},
   "outputs": [
    {
     "data": {
      "text/plain": [
       "1"
      ]
     },
     "execution_count": 163,
     "metadata": {},
     "output_type": "execute_result"
    }
   ],
   "source": [
    "Test.a"
   ]
  },
  {
   "cell_type": "code",
   "execution_count": 164,
   "metadata": {},
   "outputs": [
    {
     "data": {
      "text/plain": [
       "type"
      ]
     },
     "execution_count": 164,
     "metadata": {},
     "output_type": "execute_result"
    }
   ],
   "source": [
    "type(Test)"
   ]
  },
  {
   "cell_type": "code",
   "execution_count": null,
   "metadata": {},
   "outputs": [],
   "source": []
  },
  {
   "cell_type": "code",
   "execution_count": 47,
   "metadata": {},
   "outputs": [
    {
     "data": {
      "text/plain": [
       "<__main__.Complex at 0x7f2622d27eb0>"
      ]
     },
     "execution_count": 47,
     "metadata": {},
     "output_type": "execute_result"
    }
   ],
   "source": [
    "z"
   ]
  },
  {
   "cell_type": "code",
   "execution_count": 18,
   "metadata": {},
   "outputs": [
    {
     "data": {
      "text/plain": [
       "<bound method Complex.conjugate of <__main__.Complex object at 0x7f26223d2460>>"
      ]
     },
     "execution_count": 18,
     "metadata": {},
     "output_type": "execute_result"
    }
   ],
   "source": [
    "z.conjugate"
   ]
  },
  {
   "cell_type": "code",
   "execution_count": null,
   "metadata": {},
   "outputs": [],
   "source": []
  },
  {
   "cell_type": "code",
   "execution_count": 119,
   "metadata": {},
   "outputs": [
    {
     "name": "stdout",
     "output_type": "stream",
     "text": [
      "Hello\n",
      "(1, 2)\n",
      "{}\n"
     ]
    },
    {
     "data": {
      "text/plain": [
       "3"
      ]
     },
     "execution_count": 119,
     "metadata": {},
     "output_type": "execute_result"
    }
   ],
   "source": [
    "def my_decorator(initial_function):\n",
    "    def new_function(*args, **kwd):\n",
    "        print('Hello')\n",
    "        print(args)\n",
    "        print(kwd)\n",
    "        return initial_function(*args, **kwd)\n",
    "    return new_function\n",
    "\n",
    "def f(x, y):\n",
    "    return x + y\n",
    "\n",
    "f(1, 2)\n",
    "\n",
    "f = my_decorator(f)\n",
    "f(1, 2)"
   ]
  },
  {
   "cell_type": "code",
   "execution_count": 120,
   "metadata": {},
   "outputs": [],
   "source": [
    "@my_decorator\n",
    "def f(x, y):\n",
    "    return x + y\n",
    "\n"
   ]
  },
  {
   "cell_type": "code",
   "execution_count": 121,
   "metadata": {},
   "outputs": [
    {
     "data": {
      "text/plain": [
       "array([0.14340163, 0.0224745 , 1.02887805, 1.04111045, 1.07571282,\n",
       "       0.91169303, 0.52630414, 0.23115777, 0.05034749, 0.31510264])"
      ]
     },
     "execution_count": 121,
     "metadata": {},
     "output_type": "execute_result"
    }
   ],
   "source": [
    "import numpy as np\n",
    "\n",
    "@np.vectorize\n",
    "def my_abs(x):\n",
    "    if x>0:\n",
    "        return x\n",
    "    else:\n",
    "        return -x\n",
    "    \n",
    "my_abs(np.random.normal(size=10))"
   ]
  },
  {
   "cell_type": "code",
   "execution_count": 122,
   "metadata": {},
   "outputs": [
    {
     "data": {
      "text/plain": [
       "3"
      ]
     },
     "execution_count": 122,
     "metadata": {},
     "output_type": "execute_result"
    }
   ],
   "source": [
    "def check_args_are_int(initial_function):\n",
    "    def new_function(*args):\n",
    "        for arg in args:\n",
    "            if not isinstance(arg, int):\n",
    "                raise Exception('Arguments are not integers')\n",
    "        return initial_function(*args)\n",
    "    return new_function\n",
    "\n",
    "@check_args_are_int\n",
    "def f(x, y):\n",
    "    return x + y\n",
    "\n",
    "f(1, 2)"
   ]
  },
  {
   "cell_type": "code",
   "execution_count": 123,
   "metadata": {},
   "outputs": [
    {
     "ename": "Exception",
     "evalue": "Arguments are not integers",
     "output_type": "error",
     "traceback": [
      "\u001b[0;31m---------------------------------------------------------------------------\u001b[0m",
      "\u001b[0;31mException\u001b[0m                                 Traceback (most recent call last)",
      "\u001b[0;32m<ipython-input-123-d96ee17b6cdf>\u001b[0m in \u001b[0;36m<module>\u001b[0;34m\u001b[0m\n\u001b[0;32m----> 1\u001b[0;31m \u001b[0mf\u001b[0m\u001b[0;34m(\u001b[0m\u001b[0;36m1.2\u001b[0m\u001b[0;34m,\u001b[0m \u001b[0;36m4\u001b[0m\u001b[0;34m)\u001b[0m\u001b[0;34m\u001b[0m\u001b[0;34m\u001b[0m\u001b[0m\n\u001b[0m",
      "\u001b[0;32m<ipython-input-122-7ff46e38cacb>\u001b[0m in \u001b[0;36mnew_function\u001b[0;34m(*args)\u001b[0m\n\u001b[1;32m      3\u001b[0m         \u001b[0;32mfor\u001b[0m \u001b[0marg\u001b[0m \u001b[0;32min\u001b[0m \u001b[0margs\u001b[0m\u001b[0;34m:\u001b[0m\u001b[0;34m\u001b[0m\u001b[0;34m\u001b[0m\u001b[0m\n\u001b[1;32m      4\u001b[0m             \u001b[0;32mif\u001b[0m \u001b[0;32mnot\u001b[0m \u001b[0misinstance\u001b[0m\u001b[0;34m(\u001b[0m\u001b[0marg\u001b[0m\u001b[0;34m,\u001b[0m \u001b[0mint\u001b[0m\u001b[0;34m)\u001b[0m\u001b[0;34m:\u001b[0m\u001b[0;34m\u001b[0m\u001b[0;34m\u001b[0m\u001b[0m\n\u001b[0;32m----> 5\u001b[0;31m                 \u001b[0;32mraise\u001b[0m \u001b[0mException\u001b[0m\u001b[0;34m(\u001b[0m\u001b[0;34m'Arguments are not integers'\u001b[0m\u001b[0;34m)\u001b[0m\u001b[0;34m\u001b[0m\u001b[0;34m\u001b[0m\u001b[0m\n\u001b[0m\u001b[1;32m      6\u001b[0m         \u001b[0;32mreturn\u001b[0m \u001b[0minitial_function\u001b[0m\u001b[0;34m(\u001b[0m\u001b[0;34m*\u001b[0m\u001b[0margs\u001b[0m\u001b[0;34m)\u001b[0m\u001b[0;34m\u001b[0m\u001b[0;34m\u001b[0m\u001b[0m\n\u001b[1;32m      7\u001b[0m     \u001b[0;32mreturn\u001b[0m \u001b[0mnew_function\u001b[0m\u001b[0;34m\u001b[0m\u001b[0;34m\u001b[0m\u001b[0m\n",
      "\u001b[0;31mException\u001b[0m: Arguments are not integers"
     ]
    }
   ],
   "source": [
    "f(1.2, 4)"
   ]
  },
  {
   "cell_type": "code",
   "execution_count": null,
   "metadata": {},
   "outputs": [],
   "source": []
  },
  {
   "cell_type": "code",
   "execution_count": null,
   "metadata": {},
   "outputs": [],
   "source": []
  },
  {
   "cell_type": "code",
   "execution_count": null,
   "metadata": {},
   "outputs": [],
   "source": []
  },
  {
   "cell_type": "code",
   "execution_count": null,
   "metadata": {},
   "outputs": [],
   "source": []
  },
  {
   "cell_type": "code",
   "execution_count": null,
   "metadata": {},
   "outputs": [],
   "source": []
  },
  {
   "cell_type": "code",
   "execution_count": null,
   "metadata": {},
   "outputs": [],
   "source": []
  },
  {
   "cell_type": "code",
   "execution_count": null,
   "metadata": {},
   "outputs": [],
   "source": []
  },
  {
   "cell_type": "code",
   "execution_count": 132,
   "metadata": {},
   "outputs": [],
   "source": [
    "def multiplication(a, b):\n",
    "    out = a.__mul__(b)\n",
    "    if out!=NotImplemented:\n",
    "        return out\n",
    "    out = b.__rmul__(a)\n",
    "    if out!=NotImplemented:\n",
    "        return out\n",
    "    raise Exception('Cannot multipliy {} by {}'.format(type(a), type(b))\n",
    "                   )\n",
    "    "
   ]
  },
  {
   "cell_type": "code",
   "execution_count": 137,
   "metadata": {},
   "outputs": [
    {
     "data": {
      "text/plain": [
       "Complex(10, 0)"
      ]
     },
     "execution_count": 137,
     "metadata": {},
     "output_type": "execute_result"
    }
   ],
   "source": [
    "multiplication(z, z.conjugate())"
   ]
  },
  {
   "cell_type": "code",
   "execution_count": null,
   "metadata": {},
   "outputs": [],
   "source": []
  },
  {
   "cell_type": "markdown",
   "metadata": {},
   "source": [
    "### Special methods\n",
    "\n",
    "* `__init__`\n",
    "* `__repr__`, `__str__`\n",
    "\n",
    "\n",
    "Unary and binary operator\n",
    "* `__neg__`\n",
    "* `__add__`, `__sub__`, `__mul__`, `__truediv__`, `__mod__`, `__pow__`, `__matmul__`\n",
    "* `__radd__`, ...\n",
    "* `__eq__` (==), `__ne__` (!=), `__lt__` (<), `__le__` (<=), `__gt__`, `__ge__`\n",
    "* `__or__`, `__and__`, `__xor__`\n",
    "\n",
    "\n",
    "Containers emulation\n",
    "* a[key] => `a.__getitem__(key)`\n",
    "* a[key] = val => `a.__setitem__(key, val)`\n",
    "* del a[key] => `a.__delitem__(key)`\n",
    "* len(a) => `a.__len__()`\n",
    "* for elm in a => `for elm in a.__iter__()`\n",
    "\n",
    "### Attributes and property\n",
    "* Class attributes and object attributes\n",
    "* property\n",
    "\n",
    "### Heritage\n",
    "* isinstance \n",
    "\n",
    "### Dataclasses\n",
    "* Object with atributes set automatically in the ``__init__`` : https://docs.python.org/3/library/dataclasses.html"
   ]
  },
  {
   "cell_type": "code",
   "execution_count": null,
   "metadata": {},
   "outputs": [],
   "source": []
  },
  {
   "cell_type": "code",
   "execution_count": null,
   "metadata": {},
   "outputs": [],
   "source": []
  },
  {
   "cell_type": "code",
   "execution_count": null,
   "metadata": {},
   "outputs": [],
   "source": []
  },
  {
   "cell_type": "code",
   "execution_count": 196,
   "metadata": {},
   "outputs": [
    {
     "data": {
      "text/plain": [
       "MyClass(a=1, b=3.14)"
      ]
     },
     "execution_count": 196,
     "metadata": {},
     "output_type": "execute_result"
    }
   ],
   "source": [
    "import dataclasses\n",
    "\n",
    "@dataclasses.dataclass\n",
    "class MyClass(object):\n",
    "    a : int \n",
    "    b : float \n",
    "\n",
    "c = MyClass(1, 3.14)\n",
    "\n",
    "c"
   ]
  },
  {
   "cell_type": "code",
   "execution_count": null,
   "metadata": {},
   "outputs": [],
   "source": []
  },
  {
   "cell_type": "code",
   "execution_count": 191,
   "metadata": {},
   "outputs": [],
   "source": [
    "def f(x : int, y : float, z):\n",
    "    y : complex = 4\n",
    "    return 2*x"
   ]
  },
  {
   "cell_type": "code",
   "execution_count": 192,
   "metadata": {},
   "outputs": [
    {
     "data": {
      "text/plain": [
       "{'x': int, 'y': float}"
      ]
     },
     "execution_count": 192,
     "metadata": {},
     "output_type": "execute_result"
    }
   ],
   "source": [
    "f.__annotations__"
   ]
  },
  {
   "cell_type": "code",
   "execution_count": 193,
   "metadata": {},
   "outputs": [
    {
     "data": {
      "text/plain": [
       "{'a': int, 'b': float}"
      ]
     },
     "execution_count": 193,
     "metadata": {},
     "output_type": "execute_result"
    }
   ],
   "source": [
    "MyClass.__annotations__"
   ]
  },
  {
   "cell_type": "code",
   "execution_count": null,
   "metadata": {},
   "outputs": [],
   "source": []
  }
 ],
 "metadata": {
  "kernelspec": {
   "display_name": "Python 3",
   "language": "python",
   "name": "python3"
  },
  "language_info": {
   "codemirror_mode": {
    "name": "ipython",
    "version": 3
   },
   "file_extension": ".py",
   "mimetype": "text/x-python",
   "name": "python",
   "nbconvert_exporter": "python",
   "pygments_lexer": "ipython3",
   "version": "3.8.8"
  },
  "varInspector": {
   "cols": {
    "lenName": 16,
    "lenType": 16,
    "lenVar": 40
   },
   "kernels_config": {
    "python": {
     "delete_cmd_postfix": "",
     "delete_cmd_prefix": "del ",
     "library": "var_list.py",
     "varRefreshCmd": "print(var_dic_list())"
    },
    "r": {
     "delete_cmd_postfix": ") ",
     "delete_cmd_prefix": "rm(",
     "library": "var_list.r",
     "varRefreshCmd": "cat(var_dic_list()) "
    }
   },
   "types_to_exclude": [
    "module",
    "function",
    "builtin_function_or_method",
    "instance",
    "_Feature"
   ],
   "window_display": false
  }
 },
 "nbformat": 4,
 "nbformat_minor": 2
}
