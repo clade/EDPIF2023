{
 "cells": [
  {
   "cell_type": "code",
   "execution_count": 2,
   "id": "75e3515d",
   "metadata": {},
   "outputs": [],
   "source": [
    "import rpyc\n",
    "\n",
    "class RemoteSCPI(object):\n",
    " \n",
    "    def __init__(self, host, port):\n",
    "        self._conn = rpyc.connect(host, port)\n",
    "        self._inst = self._conn.root.instrument()\n",
    " \n",
    "    def write(self, command):\n",
    "        self._inst.write(command);\n",
    " \n",
    "    def read(self):\n",
    "        return self._inst.read()\n",
    "\n",
    "    def ask(self, command):\n",
    "        return self._inst.ask(command)\n",
    "    \n",
    "conn = RemoteSCPI('192.168.1.107', 18861)"
   ]
  },
  {
   "cell_type": "code",
   "execution_count": 39,
   "id": "a6ffd61a",
   "metadata": {},
   "outputs": [
    {
     "name": "stdout",
     "output_type": "stream",
     "text": [
      "0.0152\n",
      "0.1\n"
     ]
    }
   ],
   "source": [
    "class SCPI:\n",
    "    def __init__(self, instr):\n",
    "        self._instr = instr\n",
    "        \n",
    "    def scpi_write(self, cmd, *args):\n",
    "        \"\"\" Execute a SCPI command\n",
    "        for example :\n",
    "        inst.scpi_write('FREQ', 1234)\n",
    "        \"\"\"\n",
    "        arg_str = ','.join([repr(arg) for arg in args])\n",
    "        self._instr.write(f'{cmd} {arg_str}')\n",
    "\n",
    "    def scpi_ask(self, cmd):\n",
    "        cmd = cmd if cmd.endswith('?') else cmd + '?'\n",
    "        return self._instr.ask(cmd)\n",
    "\n",
    "    def scpi_ask_for_float(self, cmd):\n",
    "        \"\"\"Ask and convert to float\"\"\"\n",
    "        return float(self.scpi_ask(cmd))\n",
    "\n",
    "    def get_idn(self):\n",
    "        return tuple(self.scpi_ask('*IDN?').split(','))\n",
    "\n",
    "        \n",
    "    @property\n",
    "    def idn(self):\n",
    "        return self.get_idn()\n",
    "    \n",
    "    def get_manufacturer(self):\n",
    "        return self.get_idn()[0]\n",
    "\n",
    "    \n",
    "class Scope():\n",
    "    @property\n",
    "    def channel1scale(self):\n",
    "        return self.get_channel_scale(1)\n",
    "    \n",
    "    @channel1scale.setter\n",
    "    def channel1scale(self, value):\n",
    "        return self.set_channel_scale(1, value)\n",
    "\n",
    "    @property\n",
    "    def channel1(self):\n",
    "        return Channel(self, 1)\n",
    "\n",
    "    @property\n",
    "    def channel(self):\n",
    "        return Channels(self)\n",
    "\n",
    "    \n",
    "class TektronixScope(SCPI, Scope):\n",
    "    \n",
    "    def _create_channel_command(self, chan_number, cmd):\n",
    "        assert chan_number in [1, 2, 3, 4]\n",
    "        return f'CH{chan_number}:{cmd}'        \n",
    "    \n",
    "    def get_channel_scale(self, chan_number):\n",
    "        cmd = self._create_channel_command(chan_number, 'SCA?')\n",
    "        return self.scpi_ask_for_float(cmd)\n",
    "\n",
    "    def set_channel_scale(self, chan_number, value):\n",
    "        self.scpi_write(self._create_channel_command(chan_number, 'SCA'), value)\n",
    "\n",
    "        \n",
    "    \n",
    "class Channels():\n",
    "    def __init__(self, scope):\n",
    "        self.scope = scope\n",
    "    \n",
    "    def __getitem__(self, chan_number):\n",
    "        return Channel(self.scope, chan_number)\n",
    "    \n",
    "    \n",
    "class Channel():\n",
    "    def __init__(self, scope, chan_number):\n",
    "        self.scope = scope\n",
    "        self.chan_number = chan_number\n",
    "        \n",
    "    @property\n",
    "    def scale(self):\n",
    "        return self.scope.get_channel_scale(self.chan_number)\n",
    "\n",
    "    @scale.setter\n",
    "    def scale(self, value):\n",
    "        return self.scope.set_channel_scale(self.chan_number, value)\n",
    "    \n",
    "scope = TektronixScope(conn)\n",
    "\n",
    "scope.idn\n",
    "print(scope.channel1scale)\n",
    "scope.channel1.scale = 0.1\n",
    "print(scope.channel1.scale)\n"
   ]
  },
  {
   "cell_type": "code",
   "execution_count": 42,
   "id": "19b268db",
   "metadata": {},
   "outputs": [
    {
     "data": {
      "text/plain": [
       "b'#40004\\n\\x0e\\x10\\x18'"
      ]
     },
     "execution_count": 42,
     "metadata": {},
     "output_type": "execute_result"
    }
   ],
   "source": [
    "b'#40004\\n\\x0e\\x10\\x18'"
   ]
  },
  {
   "cell_type": "code",
   "execution_count": 52,
   "id": "a19d621a",
   "metadata": {},
   "outputs": [],
   "source": [
    "s = b'\\n\\x0e\\x10\\xff'"
   ]
  },
  {
   "cell_type": "code",
   "execution_count": 53,
   "id": "f99fe495",
   "metadata": {},
   "outputs": [
    {
     "data": {
      "text/plain": [
       "array([10, 14, 16, -1], dtype=int8)"
      ]
     },
     "execution_count": 53,
     "metadata": {},
     "output_type": "execute_result"
    }
   ],
   "source": [
    "import numpy as np\n",
    "\n",
    "np.frombuffer(s, dtype='int8')"
   ]
  },
  {
   "cell_type": "code",
   "execution_count": 37,
   "id": "e3856dc4",
   "metadata": {},
   "outputs": [
    {
     "data": {
      "text/plain": [
       "0.3"
      ]
     },
     "execution_count": 37,
     "metadata": {},
     "output_type": "execute_result"
    }
   ],
   "source": [
    "scope.channel[1].scale"
   ]
  },
  {
   "cell_type": "code",
   "execution_count": null,
   "id": "16275706",
   "metadata": {},
   "outputs": [],
   "source": [
    "(scope.channel1).scale"
   ]
  },
  {
   "cell_type": "code",
   "execution_count": null,
   "id": "1293e39c",
   "metadata": {},
   "outputs": [],
   "source": []
  },
  {
   "cell_type": "code",
   "execution_count": 55,
   "id": "49559e7b",
   "metadata": {},
   "outputs": [],
   "source": [
    "class FakeSCPI(object):\n",
    "    _record = {'*IDN':\"TEKTRONIX,DPO3014,C012048,CF:91.1CT FV:v2.16 \"}\n",
    "    def write(self, val):\n",
    "        if ' ' in val:\n",
    "            cmd, vals = val.split(' ')\n",
    "            self._record[cmd] = vals\n",
    "    def ask(self, val):\n",
    "        assert val[-1]=='?'\n",
    "        out = self._record.get(val[:-1], '')\n",
    "        return out"
   ]
  },
  {
   "cell_type": "code",
   "execution_count": 57,
   "id": "25b288c4",
   "metadata": {},
   "outputs": [
    {
     "data": {
      "text/plain": [
       "10.0"
      ]
     },
     "execution_count": 57,
     "metadata": {},
     "output_type": "execute_result"
    }
   ],
   "source": [
    "conn = FakeSCPI()\n",
    "\n",
    "scope = TektronixScope(conn)\n",
    "\n",
    "scope.idn\n",
    "\n",
    "scope.channel[1].scale = 10\n",
    "scope.channel[1].scale"
   ]
  },
  {
   "cell_type": "code",
   "execution_count": null,
   "id": "8d39d7a4",
   "metadata": {},
   "outputs": [],
   "source": []
  }
 ],
 "metadata": {
  "kernelspec": {
   "display_name": "Python 3",
   "language": "python",
   "name": "python3"
  },
  "language_info": {
   "codemirror_mode": {
    "name": "ipython",
    "version": 3
   },
   "file_extension": ".py",
   "mimetype": "text/x-python",
   "name": "python",
   "nbconvert_exporter": "python",
   "pygments_lexer": "ipython3",
   "version": "3.8.8"
  },
  "varInspector": {
   "cols": {
    "lenName": 16,
    "lenType": 16,
    "lenVar": 40
   },
   "kernels_config": {
    "python": {
     "delete_cmd_postfix": "",
     "delete_cmd_prefix": "del ",
     "library": "var_list.py",
     "varRefreshCmd": "print(var_dic_list())"
    },
    "r": {
     "delete_cmd_postfix": ") ",
     "delete_cmd_prefix": "rm(",
     "library": "var_list.r",
     "varRefreshCmd": "cat(var_dic_list()) "
    }
   },
   "types_to_exclude": [
    "module",
    "function",
    "builtin_function_or_method",
    "instance",
    "_Feature"
   ],
   "window_display": false
  }
 },
 "nbformat": 4,
 "nbformat_minor": 5
}
