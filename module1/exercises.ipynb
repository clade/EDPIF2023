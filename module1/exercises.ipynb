{
 "cells": [
  {
   "cell_type": "code",
   "execution_count": 2,
   "id": "47a8b8c9",
   "metadata": {},
   "outputs": [
    {
     "data": {
      "text/plain": [
       "1.0"
      ]
     },
     "execution_count": 2,
     "metadata": {},
     "output_type": "execute_result"
    }
   ],
   "source": [
    "from math import *\n",
    "\n",
    "log(e)"
   ]
  },
  {
   "cell_type": "code",
   "execution_count": 4,
   "id": "de63e2c6",
   "metadata": {},
   "outputs": [
    {
     "data": {
      "text/plain": [
       "1.4142135623730951"
      ]
     },
     "execution_count": 4,
     "metadata": {},
     "output_type": "execute_result"
    }
   ],
   "source": [
    "sqrt(2)"
   ]
  },
  {
   "cell_type": "code",
   "execution_count": 5,
   "id": "1a5dc2e4",
   "metadata": {},
   "outputs": [
    {
     "data": {
      "text/plain": [
       "0.7853981633974483"
      ]
     },
     "execution_count": 5,
     "metadata": {},
     "output_type": "execute_result"
    }
   ],
   "source": [
    "acos(sqrt(2)/2)"
   ]
  },
  {
   "cell_type": "code",
   "execution_count": 6,
   "id": "8e921433",
   "metadata": {},
   "outputs": [
    {
     "data": {
      "text/plain": [
       "0.7853981633974483"
      ]
     },
     "execution_count": 6,
     "metadata": {},
     "output_type": "execute_result"
    }
   ],
   "source": [
    "pi/4"
   ]
  },
  {
   "cell_type": "code",
   "execution_count": 15,
   "id": "a307d2aa",
   "metadata": {},
   "outputs": [
    {
     "data": {
      "text/plain": [
       "147.6"
      ]
     },
     "execution_count": 15,
     "metadata": {},
     "output_type": "execute_result"
    }
   ],
   "source": [
    "default_VAT_rate = 19.6\n",
    "\n",
    "def price_with_taxes(initial_price, VAT_rate=default_VAT_rate):\n",
    "    \"\"\" Calculate the price with taxes\"\"\"\n",
    "    return initial_price * (1+VAT_rate/100)\n",
    "\n",
    "price_with_taxes(123, VAT_rate=20)"
   ]
  },
  {
   "cell_type": "code",
   "execution_count": 22,
   "id": "6f1c6157",
   "metadata": {},
   "outputs": [
    {
     "name": "stdout",
     "output_type": "stream",
     "text": [
      "0.5403018851213304\n",
      "0.5403023058681398\n"
     ]
    }
   ],
   "source": [
    "epsilon = 1E-6\n",
    "\n",
    "x = 1\n",
    "\n",
    "print((sin(x + epsilon) - sin(x))/epsilon)\n",
    "print(cos(x))"
   ]
  },
  {
   "cell_type": "code",
   "execution_count": 23,
   "id": "0becc3ed",
   "metadata": {},
   "outputs": [
    {
     "name": "stdout",
     "output_type": "stream",
     "text": [
      "0.5403023058958567\n",
      "0.5403023058681398\n"
     ]
    }
   ],
   "source": [
    "print((sin(x + epsilon) - sin(x - epsilon))/(2*epsilon))\n",
    "print(cos(x))"
   ]
  },
  {
   "cell_type": "code",
   "execution_count": 33,
   "id": "c92c528e",
   "metadata": {},
   "outputs": [],
   "source": [
    "def derivative(f, epsilon=1E-6):\n",
    "    def derivative_of_f(x):\n",
    "        return (f(x + epsilon) - f(x - epsilon))/(2*epsilon)\n",
    "    return derivative_of_f"
   ]
  },
  {
   "cell_type": "code",
   "execution_count": 34,
   "id": "d684f549",
   "metadata": {},
   "outputs": [
    {
     "data": {
      "text/plain": [
       "0.5403023058958567"
      ]
     },
     "execution_count": 34,
     "metadata": {},
     "output_type": "execute_result"
    }
   ],
   "source": [
    "sin_prime = derivative(sin)\n",
    "sin_prime(1)"
   ]
  },
  {
   "cell_type": "code",
   "execution_count": 36,
   "id": "32094fec",
   "metadata": {},
   "outputs": [
    {
     "data": {
      "text/plain": [
       "-0.9999999999732445"
      ]
     },
     "execution_count": 36,
     "metadata": {},
     "output_type": "execute_result"
    }
   ],
   "source": [
    "derivative_of_one_over_x = derivative(lambda x:1/x)\n",
    "derivative_of_one_over_x(1)"
   ]
  },
  {
   "cell_type": "code",
   "execution_count": 32,
   "id": "94afba34",
   "metadata": {},
   "outputs": [
    {
     "data": {
      "text/plain": [
       "0.9092974268256817"
      ]
     },
     "execution_count": 32,
     "metadata": {},
     "output_type": "execute_result"
    }
   ],
   "source": [
    "def f(x):\n",
    "    return sin(x)\n",
    "\n",
    "f(2)"
   ]
  },
  {
   "cell_type": "code",
   "execution_count": null,
   "id": "ed19ad62",
   "metadata": {},
   "outputs": [],
   "source": []
  }
 ],
 "metadata": {
  "kernelspec": {
   "display_name": "Python 3",
   "language": "python",
   "name": "python3"
  },
  "language_info": {
   "codemirror_mode": {
    "name": "ipython",
    "version": 3
   },
   "file_extension": ".py",
   "mimetype": "text/x-python",
   "name": "python",
   "nbconvert_exporter": "python",
   "pygments_lexer": "ipython3",
   "version": "3.8.8"
  },
  "varInspector": {
   "cols": {
    "lenName": 16,
    "lenType": 16,
    "lenVar": 40
   },
   "kernels_config": {
    "python": {
     "delete_cmd_postfix": "",
     "delete_cmd_prefix": "del ",
     "library": "var_list.py",
     "varRefreshCmd": "print(var_dic_list())"
    },
    "r": {
     "delete_cmd_postfix": ") ",
     "delete_cmd_prefix": "rm(",
     "library": "var_list.r",
     "varRefreshCmd": "cat(var_dic_list()) "
    }
   },
   "types_to_exclude": [
    "module",
    "function",
    "builtin_function_or_method",
    "instance",
    "_Feature"
   ],
   "window_display": false
  }
 },
 "nbformat": 4,
 "nbformat_minor": 5
}
